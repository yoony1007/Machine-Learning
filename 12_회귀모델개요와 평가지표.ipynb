{
 "cells": [
  {
   "cell_type": "markdown",
   "metadata": {},
   "source": [
    "# 회귀(Regression)\n",
    "\n",
    "지도 학습(Supervised Learning)으로 예측할 Target이 연속형(continuous) 데이터(float)인 경우"
   ]
  },
  {
   "cell_type": "markdown",
   "metadata": {},
   "source": [
    "## 회귀의 주요 평가 지표\n",
    "- 예측값과 실제 값간의 차이 구함\n",
    "\n",
    "- ### MSE (Mean Squared Error)\n",
    "    - 오차 제곱의 평균\n",
    "    - 실제 값(y_i)과 예측값(\\hat{y_i})의 차를 제곱해 평균낸 것\n",
    "    - mean_squared_error() \n",
    "    - 'neg_mean_squared_error' - GridSearch에서 scoring에 지정할 때\n",
    "        - 오차가 작을수록 좋은 모델 -> GridSearch에서 sort_values하게 될 경우, 가장 큰 오차 가지고 있는 모델 순으로 정렬됨 -> 각 오차 앞에 -(negative) 붙여 정렬\n",
    "        - 평가지표 할 때는 다시 -1 곱해, 원래 오차 값으로 되돌림\n",
    "    $$\n",
    "    MSE = \\frac{1}{n}\\sum_{i=1}^{n}(y_i - \\hat{y_i})^2\\\\\n",
    "    y_i: 실제값, \\hat{y_i}: 모델이 예측한 값\n",
    "    $$\n",
    "    \n",
    "- ### MAE (Mean Absolute Error)\n",
    "    - 오차 절대값의 평균\n",
    "    - 실제 값과 예측값의 차이의 절대값을 평균낸 것\n",
    "    \n",
    "- ### RMSE (Root Mean Squared Error)\n",
    "    - MSE의 제곱근. MSE는 오차의 제곱 값이므로 실제 오차 평균보다 큰 값 나옴\n",
    "    - scikit-learn은 함수 지원하지 않음(MSE 구한 뒤, np.sqrt()로 제곱근을 구함)\n",
    "    $$\n",
    "    RMSE = \\sqrt{\\frac{1}{n}\\sum_{i=1}^{n}(y_i - \\hat{y_i})^2}\n",
    "    $$\n",
    "\n",
    "- ### $R^2$ (R square, 결정계수)\n",
    "    - 예측 성능 알려주는 값\n",
    "    - 평균으로 예측했을 때 오차(총오차)보다 모델을 사용했을 때 얼마만큼 더 좋은 성능 내는지를 비율로 나타낸 값 \n",
    "    - 1에 가까울수록 좋은 모델\n",
    "    - r2_score()\n",
    "    - 'r2' - GridSearch\n",
    "    - [참고](https://ko.khanacademy.org/math/statistics-probability/describing-relationships-quantitative-data/assessing-the-fit-in-least-squares-regression/a/r-squared-intuition)\n",
    "    $$\n",
    "    R^2 = \\cfrac{\\sum_{i=1}^{n}(\\hat{y_i}-\\bar{y})^2}{\\sum_{i=1}^{n}(y_i - \\bar{y})^2}\\\\\n",
    "    R^2 = 1 - \\cfrac{\\sum_{i=1}^{n}(y_i - \\hat{y_i})^2}{\\sum_{i=1}^{n}(y_i - \\bar{y})^2}\n",
    "    $$\n",
    "\n",
    "- $y_i$ : i번째 실제 값, \n",
    "- $\\hat{y_i}$ : i 번째 예측 값, \n",
    "- $\\bar{y}$ : y의 평균    \n",
    "\n"
   ]
  },
  {
   "cell_type": "markdown",
   "metadata": {
    "ExecuteTime": {
     "end_time": "2020-09-01T21:11:02.482106Z",
     "start_time": "2020-09-01T21:11:02.476120Z"
    }
   },
   "source": [
    "# Guide\n",
    "- 결정계수. 바이오에선 90%, 공학에선 70%, 사회과학에선 13% 정도가 기준이 됨"
   ]
  },
  {
   "cell_type": "code",
   "execution_count": 1,
   "metadata": {
    "ExecuteTime": {
     "end_time": "2020-09-01T21:08:46.728417Z",
     "start_time": "2020-09-01T21:08:46.710465Z"
    }
   },
   "outputs": [],
   "source": [
    "# import pandas as pd\n",
    "import numpy as np\n",
    "import matplotlib.pyplot as plt\n",
    "import seaborn as sns"
   ]
  },
  {
   "cell_type": "code",
   "execution_count": 2,
   "metadata": {
    "ExecuteTime": {
     "end_time": "2020-09-01T21:08:47.077027Z",
     "start_time": "2020-09-01T21:08:47.062072Z"
    }
   },
   "outputs": [],
   "source": [
    "from sklearn.datasets import make_regression  # 데이터셋 원하는 형식에 맞추어 만들 수 있음. 가상 데이터. 테스트하고 싶은것에 맞춰져 있는 데이터셋 찾기 어려운 상황에서 유용\n",
    "from sklearn.model_selection import cross_val_score\n",
    "from sklearn.linear_model import LinearRegression"
   ]
  },
  {
   "cell_type": "code",
   "execution_count": 3,
   "metadata": {
    "ExecuteTime": {
     "end_time": "2020-09-01T21:08:57.130388Z",
     "start_time": "2020-09-01T21:08:57.118421Z"
    }
   },
   "outputs": [],
   "source": [
    "X, y = make_regression(n_samples=100, # 샘플(행)수\n",
    "                       n_features=1, # feature(컬럼)수 \n",
    "                       n_informative=1, # target 만드는데 영향 주는 feature의 개수.  feature에 영향 주는 컬럼수\n",
    "                       noise = 50,   # 잡음. 오차 만들어줌 \n",
    "                       coef = False, #Feature간 상관성 여부. False - 독립적. True - 상관관계 있음\n",
    "                       random_state = 1)"
   ]
  },
  {
   "cell_type": "code",
   "execution_count": 4,
   "metadata": {
    "ExecuteTime": {
     "end_time": "2020-09-01T21:08:57.519349Z",
     "start_time": "2020-09-01T21:08:57.510373Z"
    }
   },
   "outputs": [
    {
     "data": {
      "text/plain": [
       "((100, 1), (100,))"
      ]
     },
     "execution_count": 4,
     "metadata": {},
     "output_type": "execute_result"
    }
   ],
   "source": [
    "X.shape, y.shape"
   ]
  },
  {
   "cell_type": "code",
   "execution_count": 5,
   "metadata": {
    "ExecuteTime": {
     "end_time": "2020-09-01T21:08:58.199046Z",
     "start_time": "2020-09-01T21:08:58.054923Z"
    }
   },
   "outputs": [
    {
     "data": {
      "text/plain": [
       "<matplotlib.collections.PathCollection at 0x1511a95ca88>"
      ]
     },
     "execution_count": 5,
     "metadata": {},
     "output_type": "execute_result"
    },
    {
     "data": {
      "image/png": "[encoded data removed]",
      "text/plain": [
       "<Figure size 432x288 with 1 Axes>"
      ]
     },
     "metadata": {
      "needs_background": "light"
     },
     "output_type": "display_data"
    }
   ],
   "source": [
    "plt.scatter(X, y)"
   ]
  },
  {
   "cell_type": "code",
   "execution_count": 6,
   "metadata": {
    "ExecuteTime": {
     "end_time": "2020-09-01T21:09:04.533165Z",
     "start_time": "2020-09-01T21:09:04.526185Z"
    }
   },
   "outputs": [
    {
     "data": {
      "text/plain": [
       "(15.293427290684107,\n",
       " -255.11169199137663,\n",
       " 247.19463389209255,\n",
       " 20.62597485010551)"
      ]
     },
     "execution_count": 6,
     "metadata": {},
     "output_type": "execute_result"
    }
   ],
   "source": [
    "np.mean(y), np.min(y), np.max(y), np.median(y)"
   ]
  },
  {
   "cell_type": "code",
   "execution_count": 7,
   "metadata": {
    "ExecuteTime": {
     "end_time": "2020-09-01T21:09:15.354011Z",
     "start_time": "2020-09-01T21:09:15.326085Z"
    }
   },
   "outputs": [
    {
     "data": {
      "text/plain": [
       "LinearRegression()"
      ]
     },
     "execution_count": 7,
     "metadata": {},
     "output_type": "execute_result"
    }
   ],
   "source": [
    "lr = LinearRegression()\n",
    "lr.fit(X, y)"
   ]
  },
  {
   "cell_type": "code",
   "execution_count": 8,
   "metadata": {
    "ExecuteTime": {
     "end_time": "2020-09-01T21:09:20.569099Z",
     "start_time": "2020-09-01T21:09:20.558129Z"
    }
   },
   "outputs": [],
   "source": [
    "# 예측\n",
    "pred = lr.predict(X)\n",
    "# np.mean(pred)"
   ]
  },
  {
   "cell_type": "code",
   "execution_count": 9,
   "metadata": {},
   "outputs": [],
   "source": [
    "# 예측\n",
    "pred = lr.predict(X)\n",
    "# np.mean(pred)"
   ]
  },
  {
   "cell_type": "code",
   "execution_count": 10,
   "metadata": {
    "scrolled": true
   },
   "outputs": [
    {
     "data": {
      "text/plain": [
       "array([[-0.61175641],\n",
       "       [-0.24937038],\n",
       "       [ 0.48851815],\n",
       "       [ 0.76201118],\n",
       "       [ 1.51981682],\n",
       "       [ 0.37756379],\n",
       "       [ 0.51292982],\n",
       "       [-0.67124613],\n",
       "       [-1.39649634],\n",
       "       [ 0.31563495],\n",
       "       [-0.63699565],\n",
       "       [-0.39675353],\n",
       "       [-1.10061918],\n",
       "       [ 0.90085595],\n",
       "       [-1.09989127],\n",
       "       [ 0.82797464],\n",
       "       [-0.07557171],\n",
       "       [-0.35224985],\n",
       "       [-0.67066229],\n",
       "       [-1.07296862],\n",
       "       [-0.30620401],\n",
       "       [ 2.18557541],\n",
       "       [ 0.86540763],\n",
       "       [ 0.19829972],\n",
       "       [-0.38405435],\n",
       "       [-0.68372786],\n",
       "       [ 0.05080775],\n",
       "       [ 0.58281521],\n",
       "       [ 1.25286816],\n",
       "       [-0.75439794],\n",
       "       [-0.34934272],\n",
       "       [-0.88762896],\n",
       "       [ 0.18656139],\n",
       "       [ 0.87616892],\n",
       "       [ 0.83898341],\n",
       "       [-0.50446586],\n",
       "       [-0.34385368],\n",
       "       [ 1.6924546 ],\n",
       "       [-2.3015387 ],\n",
       "       [ 0.93110208],\n",
       "       [ 2.10025514],\n",
       "       [ 1.46210794],\n",
       "       [-0.84520564],\n",
       "       [-0.87785842],\n",
       "       [-0.3224172 ],\n",
       "       [ 0.88514116],\n",
       "       [ 0.16003707],\n",
       "       [ 1.13162939],\n",
       "       [-0.37528495],\n",
       "       [ 0.50249434],\n",
       "       [-0.20889423],\n",
       "       [ 0.12015895],\n",
       "       [ 0.58662319],\n",
       "       [ 0.3190391 ],\n",
       "       [-0.69166075],\n",
       "       [ 0.69803203],\n",
       "       [ 1.19891788],\n",
       "       [-0.20075807],\n",
       "       [ 0.53035547],\n",
       "       [ 0.74204416],\n",
       "       [ 0.41005165],\n",
       "       [ 0.11900865],\n",
       "       [-0.7612069 ],\n",
       "       [ 0.42349435],\n",
       "       [ 0.30017032],\n",
       "       [-1.1425182 ],\n",
       "       [ 0.18515642],\n",
       "       [-0.93576943],\n",
       "       [-0.62000084],\n",
       "       [-1.11731035],\n",
       "       [-1.44411381],\n",
       "       [-0.22232814],\n",
       "       [ 1.62434536],\n",
       "       [ 0.61720311],\n",
       "       [-0.6871727 ],\n",
       "       [ 0.07734007],\n",
       "       [-0.0126646 ],\n",
       "       [-0.63873041],\n",
       "       [ 1.13376944],\n",
       "       [ 1.74481176],\n",
       "       [ 0.90159072],\n",
       "       [-2.06014071],\n",
       "       [ 0.2344157 ],\n",
       "       [-0.17242821],\n",
       "       [ 0.12182127],\n",
       "       [ 1.14472371],\n",
       "       [-0.12289023],\n",
       "       [-0.74715829],\n",
       "       [ 0.28558733],\n",
       "       [-2.02220122],\n",
       "       [ 0.23009474],\n",
       "       [-0.26788808],\n",
       "       [-0.52817175],\n",
       "       [ 1.12948391],\n",
       "       [ 0.19091548],\n",
       "       [-0.29809284],\n",
       "       [ 1.65980218],\n",
       "       [ 0.04359686],\n",
       "       [ 0.04221375],\n",
       "       [-0.19183555]])"
      ]
     },
     "execution_count": 10,
     "metadata": {},
     "output_type": "execute_result"
    }
   ],
   "source": [
    "X"
   ]
  },
  {
   "cell_type": "code",
   "execution_count": 12,
   "metadata": {
    "scrolled": false
   },
   "outputs": [
    {
     "data": {
      "text/plain": [
       "array([ -41.95321474,  -11.0976856 ,   51.73017859,   75.01687119,\n",
       "        139.5405874 ,   42.28291757,   53.80872201,  -47.01849461,\n",
       "       -108.77026334,   37.00995752,  -44.10222106,  -23.64669313,\n",
       "        -83.57766397,   86.83887415,  -83.51568574,   80.63336112,\n",
       "          3.700483  ,  -19.8574064 ,  -46.96878289,  -81.22334449,\n",
       "        -15.93681229,  196.22691473,   83.82061032,   27.01939459,\n",
       "        -22.56541616,  -48.08125722,   14.46112205,   59.75914659,\n",
       "        116.81111848,  -54.09849447,  -19.60987796,  -65.4425124 ,\n",
       "         26.01992906,   84.73688556,   81.57070811,  -32.8179105 ,\n",
       "        -19.14251049,  154.23991252, -185.83051957,   89.41419524,\n",
       "        188.96228033,  134.62693781,  -61.83035871,  -64.61059467,\n",
       "        -17.31729207,   85.50083141,   23.76150326,  106.48818675,\n",
       "        -21.8187411 ,   52.92018804,   -7.6513255 ,   20.36606229,\n",
       "         60.08337862,   37.29980537,  -48.75670707,   69.56933678,\n",
       "        112.21749699,   -6.95856797,   55.29243684,   73.31676993,\n",
       "         45.04911171,   20.26811889,  -54.67824655,   46.19369729,\n",
       "         35.69321458,  -87.14517574,   25.90030193,  -69.54145531,\n",
       "        -42.65519063,  -84.99884159, -112.82467515,   -8.79516201,\n",
       "        148.44071957,   62.68712012,  -48.37456982,   16.72022833,\n",
       "          9.05673873,  -44.24992809,  106.67040272,  158.69788773,\n",
       "         86.9014366 , -165.27657474,   30.09450645,   -4.54640864,\n",
       "         20.50760118,  107.60310897,   -0.32847393,  -53.48207131,\n",
       "         34.45153866, -162.04619877,   29.72659608,  -12.67438421,\n",
       "        -34.83635956,  106.30550889,   26.3906604 ,  -15.24618227,\n",
       "        151.45970658,   13.84714676,   13.7293812 ,   -6.19885611])"
      ]
     },
     "execution_count": 12,
     "metadata": {},
     "output_type": "execute_result"
    }
   ],
   "source": [
    "pred"
   ]
  },
  {
   "cell_type": "code",
   "execution_count": 13,
   "metadata": {
    "scrolled": true
   },
   "outputs": [
    {
     "data": {
      "text/plain": [
       "array([-6.47837150e+01,  3.53525698e+00, -2.24930988e+00,  1.60486845e+02,\n",
       "        1.76846086e+02,  3.75120284e+01,  2.04399290e+01,  1.65475124e+01,\n",
       "       -8.00299319e+01,  2.12950877e+01, -3.68533417e+01,  2.71863822e+01,\n",
       "       -1.05041229e+02, -1.80445868e+01, -8.50723156e+01,  6.89340357e+01,\n",
       "       -2.50673768e+01, -9.59581539e+01, -8.21563475e+01, -6.22450275e+00,\n",
       "       -3.50170055e+01,  1.82489231e+02,  5.79386310e+01,  4.26634726e+01,\n",
       "        1.30913351e-01, -2.09715557e+01, -4.01151102e+00,  4.08451522e+01,\n",
       "        1.38282568e+02, -7.02177235e+01, -2.25347306e+01, -4.47436142e+01,\n",
       "        2.42126703e+01,  8.16001763e+01,  1.91435758e+02,  4.32788040e+00,\n",
       "       -9.92775395e+01,  2.47194634e+02, -2.02799798e+02,  5.85334904e+01,\n",
       "        1.59536038e+02,  8.54897401e+01, -7.37592095e+01, -4.06447270e+01,\n",
       "       -6.49055955e+01,  7.59577622e+01,  8.30410079e+01,  6.41532713e+01,\n",
       "       -2.65508208e+01,  2.47503948e+01, -7.89972479e+01,  2.13397064e+01,\n",
       "        1.27320816e+02,  2.91983014e+01, -1.49819398e+01,  8.25052252e+01,\n",
       "        9.36791817e+01,  3.32075339e+01, -6.39364756e+01,  5.14020686e+01,\n",
       "        7.92951311e+01, -1.96514023e+01,  2.55162469e+01,  4.80842807e+01,\n",
       "        5.39131601e+01, -5.06850039e+01,  2.68654102e+01, -6.57129269e+01,\n",
       "        2.53019418e+01, -5.65030259e+01, -1.21012923e+02, -4.76451909e+01,\n",
       "        1.81054320e+02,  5.75844468e+01, -6.56860939e+01,  6.74404512e+01,\n",
       "       -7.18544164e+01, -3.46370248e+01,  1.12885224e+02,  1.65204374e+02,\n",
       "        1.95849271e+02, -2.05230375e+02, -1.96949084e+01, -3.65752004e+01,\n",
       "        9.82123058e+01,  1.07928957e+02, -8.31690754e+00, -4.07394013e+01,\n",
       "        6.19072274e+01, -2.55111692e+02, -5.16569648e+01,  2.37511719e+01,\n",
       "       -2.43370994e+01,  5.17725460e+01,  2.08120207e+01, -2.38112047e+01,\n",
       "        1.29269644e+02,  4.62408701e+01,  1.22667384e+02, -4.25403786e+01])"
      ]
     },
     "execution_count": 13,
     "metadata": {},
     "output_type": "execute_result"
    }
   ],
   "source": [
    "y"
   ]
  },
  {
   "cell_type": "code",
   "execution_count": 18,
   "metadata": {
    "ExecuteTime": {
     "end_time": "2020-09-01T21:09:25.220636Z",
     "start_time": "2020-09-01T21:09:25.214654Z"
    }
   },
   "outputs": [
    {
     "name": "stdout",
     "output_type": "stream",
     "text": [
      "MSE :  2078.5472792307764\n",
      "RMSE :  45.59108771712709\n",
      "MAE:  34.84147804463735\n",
      "R^2 :  0.7321024057172182\n"
     ]
    }
   ],
   "source": [
    "from sklearn.metrics import mean_squared_error, r2_score, mean_absolute_error\n",
    "# 평가\n",
    "mse = mean_squared_error(y, pred)\n",
    "r2 = r2_score(y, pred)\n",
    "print(\"MSE : \", mse)\n",
    "print(\"RMSE : \", np.sqrt(mse))\n",
    "print(\"MAE: \", mean_absolute_error(y, pred))\n",
    "print('R^2 : ', r2)"
   ]
  },
  {
   "cell_type": "code",
   "execution_count": 20,
   "metadata": {
    "ExecuteTime": {
     "end_time": "2020-09-01T21:11:56.047444Z",
     "start_time": "2020-09-01T21:11:56.030522Z"
    }
   },
   "outputs": [
    {
     "data": {
      "text/plain": [
       "(array([0.58124097, 0.82853824, 0.52826294, 0.76611492, 0.7184243 ]),\n",
       " 0.6845162761863837)"
      ]
     },
     "execution_count": 20,
     "metadata": {},
     "output_type": "execute_result"
    }
   ],
   "source": [
    "# scoring 생략: 분류 - accuracy, 회귀 - r2 기본방식\n",
    "score = cross_val_score(lr, X, y, cv=5)#, scoring='r2') #R2\n",
    "score, np.mean(score)"
   ]
  },
  {
   "cell_type": "code",
   "execution_count": 23,
   "metadata": {
    "ExecuteTime": {
     "end_time": "2020-09-01T21:13:17.135775Z",
     "start_time": "2020-09-01T21:13:17.109843Z"
    }
   },
   "outputs": [
    {
     "data": {
      "text/plain": [
       "2207.379873655927"
      ]
     },
     "execution_count": 23,
     "metadata": {},
     "output_type": "execute_result"
    }
   ],
   "source": [
    "# mse \n",
    "score = cross_val_score(lr, X, y, scoring='neg_mean_squared_error', cv=10) #* -1  \n",
    "np.mean(score) * -1\n",
    "#작을 수록 좋은 것인데 양수로 하면 작은게 밑이고 큰게 위이니까 음수로 해서 나오게 함"
   ]
  },
  {
   "cell_type": "code",
   "execution_count": 24,
   "metadata": {},
   "outputs": [
    {
     "data": {
      "text/plain": [
       "array([1882.70290581, 2859.09589717,  420.87862081, 3244.99975507,\n",
       "       1404.5936989 , 2794.10631553, 1863.97405357, 1262.61248332,\n",
       "       3714.70549983, 2626.12950655])"
      ]
     },
     "execution_count": 24,
     "metadata": {},
     "output_type": "execute_result"
    }
   ],
   "source": [
    "score * -1"
   ]
  },
  {
   "cell_type": "code",
   "execution_count": 12,
   "metadata": {
    "ExecuteTime": {
     "end_time": "2020-09-01T21:13:29.620778Z",
     "start_time": "2020-09-01T21:13:29.614794Z"
    }
   },
   "outputs": [
    {
     "data": {
      "text/plain": [
       "(array([85.14546889]), 10.135071944054275)"
      ]
     },
     "execution_count": 12,
     "metadata": {},
     "output_type": "execute_result"
    }
   ],
   "source": [
    "# y = wx + b -> w, b 값 찾는 과정 학습\n",
    "# lr.coef - w값 찾는 것\n",
    "# lr.intercept - b값 찾는 것\n",
    "# y = 85.1x + 10.13\n",
    "lr.fit(X, y)\n",
    "lr.coef_, lr.intercept_"
   ]
  },
  {
   "cell_type": "code",
   "execution_count": 25,
   "metadata": {},
   "outputs": [
    {
     "name": "stdout",
     "output_type": "stream",
     "text": [
      "[85.14546889] 10.135071944054275\n"
     ]
    }
   ],
   "source": [
    "print(lr.coef_, lr.intercept_)"
   ]
  },
  {
   "cell_type": "code",
   "execution_count": 26,
   "metadata": {},
   "outputs": [
    {
     "data": {
      "text/plain": [
       "numpy.ndarray"
      ]
     },
     "execution_count": 26,
     "metadata": {},
     "output_type": "execute_result"
    }
   ],
   "source": [
    "# feature가 여러개일 때, 각 컬럼별 가중치 반환해주기에 array 형태\n",
    "# lr.coef는 컬럼의 개수만큼 나옴\n",
    "type(lr.coef_)"
   ]
  },
  {
   "cell_type": "code",
   "execution_count": 27,
   "metadata": {
    "ExecuteTime": {
     "end_time": "2019-12-19T15:31:37.542329Z",
     "start_time": "2019-12-19T15:31:37.537309Z"
    }
   },
   "outputs": [
    {
     "data": {
      "text/plain": [
       "((100, 1), (100,))"
      ]
     },
     "execution_count": 27,
     "metadata": {},
     "output_type": "execute_result"
    }
   ],
   "source": [
    "X.shape, y.shape"
   ]
  },
  {
   "cell_type": "code",
   "execution_count": 30,
   "metadata": {
    "ExecuteTime": {
     "end_time": "2019-12-19T15:31:38.238822Z",
     "start_time": "2019-12-19T15:31:38.104181Z"
    },
    "scrolled": true
   },
   "outputs": [
    {
     "data": {
      "image/png": "[encoded data removed]",
      "text/plain": [
       "<Figure size 432x288 with 1 Axes>"
      ]
     },
     "metadata": {
      "needs_background": "light"
     },
     "output_type": "display_data"
    }
   ],
   "source": [
    "plt.scatter(X, y, label = 'truth')\n",
    "y_hat = X*lr.coef_ + lr.intercept_\n",
    "plt.plot(X, y_hat, color='red', label = 'prediction')\n",
    "plt.legend()\n",
    "plt.show()"
   ]
  },
  {
   "cell_type": "code",
   "execution_count": 29,
   "metadata": {},
   "outputs": [
    {
     "data": {
      "text/plain": [
       "array([[ -41.95321474],\n",
       "       [ -11.0976856 ],\n",
       "       [  51.73017859],\n",
       "       [  75.01687119],\n",
       "       [ 139.5405874 ],\n",
       "       [  42.28291757],\n",
       "       [  53.80872201],\n",
       "       [ -47.01849461],\n",
       "       [-108.77026334],\n",
       "       [  37.00995752],\n",
       "       [ -44.10222106],\n",
       "       [ -23.64669313],\n",
       "       [ -83.57766397],\n",
       "       [  86.83887415],\n",
       "       [ -83.51568574],\n",
       "       [  80.63336112],\n",
       "       [   3.700483  ],\n",
       "       [ -19.8574064 ],\n",
       "       [ -46.96878289],\n",
       "       [ -81.22334449],\n",
       "       [ -15.93681229],\n",
       "       [ 196.22691473],\n",
       "       [  83.82061032],\n",
       "       [  27.01939459],\n",
       "       [ -22.56541616],\n",
       "       [ -48.08125722],\n",
       "       [  14.46112205],\n",
       "       [  59.75914659],\n",
       "       [ 116.81111848],\n",
       "       [ -54.09849447],\n",
       "       [ -19.60987796],\n",
       "       [ -65.4425124 ],\n",
       "       [  26.01992906],\n",
       "       [  84.73688556],\n",
       "       [  81.57070811],\n",
       "       [ -32.8179105 ],\n",
       "       [ -19.14251049],\n",
       "       [ 154.23991252],\n",
       "       [-185.83051957],\n",
       "       [  89.41419524],\n",
       "       [ 188.96228033],\n",
       "       [ 134.62693781],\n",
       "       [ -61.83035871],\n",
       "       [ -64.61059467],\n",
       "       [ -17.31729207],\n",
       "       [  85.50083141],\n",
       "       [  23.76150326],\n",
       "       [ 106.48818675],\n",
       "       [ -21.8187411 ],\n",
       "       [  52.92018804],\n",
       "       [  -7.6513255 ],\n",
       "       [  20.36606229],\n",
       "       [  60.08337862],\n",
       "       [  37.29980537],\n",
       "       [ -48.75670707],\n",
       "       [  69.56933678],\n",
       "       [ 112.21749699],\n",
       "       [  -6.95856797],\n",
       "       [  55.29243684],\n",
       "       [  73.31676993],\n",
       "       [  45.04911171],\n",
       "       [  20.26811889],\n",
       "       [ -54.67824655],\n",
       "       [  46.19369729],\n",
       "       [  35.69321458],\n",
       "       [ -87.14517574],\n",
       "       [  25.90030193],\n",
       "       [ -69.54145531],\n",
       "       [ -42.65519063],\n",
       "       [ -84.99884159],\n",
       "       [-112.82467515],\n",
       "       [  -8.79516201],\n",
       "       [ 148.44071957],\n",
       "       [  62.68712012],\n",
       "       [ -48.37456982],\n",
       "       [  16.72022833],\n",
       "       [   9.05673873],\n",
       "       [ -44.24992809],\n",
       "       [ 106.67040272],\n",
       "       [ 158.69788773],\n",
       "       [  86.9014366 ],\n",
       "       [-165.27657474],\n",
       "       [  30.09450645],\n",
       "       [  -4.54640864],\n",
       "       [  20.50760118],\n",
       "       [ 107.60310897],\n",
       "       [  -0.32847393],\n",
       "       [ -53.48207131],\n",
       "       [  34.45153866],\n",
       "       [-162.04619877],\n",
       "       [  29.72659608],\n",
       "       [ -12.67438421],\n",
       "       [ -34.83635956],\n",
       "       [ 106.30550889],\n",
       "       [  26.3906604 ],\n",
       "       [ -15.24618227],\n",
       "       [ 151.45970658],\n",
       "       [  13.84714676],\n",
       "       [  13.7293812 ],\n",
       "       [  -6.19885611]])"
      ]
     },
     "execution_count": 29,
     "metadata": {},
     "output_type": "execute_result"
    }
   ],
   "source": [
    "y_hat"
   ]
  },
  {
   "cell_type": "code",
   "execution_count": 31,
   "metadata": {
    "ExecuteTime": {
     "end_time": "2019-12-19T15:34:32.753634Z",
     "start_time": "2019-12-19T15:34:32.747651Z"
    }
   },
   "outputs": [
    {
     "data": {
      "text/plain": [
       "array([10.13507194, 95.28054083])"
      ]
     },
     "execution_count": 31,
     "metadata": {},
     "output_type": "execute_result"
    }
   ],
   "source": [
    "lr.predict([[0],[1]])"
   ]
  },
  {
   "cell_type": "markdown",
   "metadata": {},
   "source": [
    "## 기존 분류 모델의 회귀 모델"
   ]
  },
  {
   "cell_type": "code",
   "execution_count": 32,
   "metadata": {
    "ExecuteTime": {
     "end_time": "2020-09-01T21:14:15.084773Z",
     "start_time": "2020-09-01T21:14:15.013961Z"
    }
   },
   "outputs": [],
   "source": [
    "from sklearn.model_selection import train_test_split\n",
    "\n",
    "from sklearn.neighbors import KNeighborsRegressor\n",
    "from sklearn.tree import DecisionTreeRegressor\n",
    "from sklearn.ensemble import RandomForestRegressor, VotingRegressor\n",
    "from sklearn.linear_model import LinearRegression\n",
    "\n",
    "# stratify - y: 분류문제에서만 지정\n",
    "# test_size - default: 0.25\n",
    "X_train, X_test, y_train, y_test = train_test_split(X, y, test_size=0.2, random_state=12)"
   ]
  },
  {
   "cell_type": "code",
   "execution_count": 33,
   "metadata": {
    "ExecuteTime": {
     "end_time": "2020-09-01T21:15:38.868177Z",
     "start_time": "2020-09-01T21:15:38.856177Z"
    }
   },
   "outputs": [],
   "source": [
    "knn_reg = KNeighborsRegressor(n_neighbors=3)\n",
    "tree_reg = DecisionTreeRegressor(max_depth=5)\n",
    "rf_reg = RandomForestRegressor(n_estimators=300, max_depth=2)\n",
    "lr_reg = LinearRegression()\n",
    "\n",
    "estimators = [(\"knn\",knn_reg), ('tree',tree_reg), ('random forest',rf_reg), ('linear reg',lr_reg)]"
   ]
  },
  {
   "cell_type": "code",
   "execution_count": 34,
   "metadata": {
    "ExecuteTime": {
     "end_time": "2020-09-01T21:15:39.401749Z",
     "start_time": "2020-09-01T21:15:39.382768Z"
    }
   },
   "outputs": [],
   "source": [
    "def print_metrics(y, y_pred, title = None):\n",
    "    mse = mean_squared_error(y, y_pred)\n",
    "    rmse = np.sqrt(mse)\n",
    "    r2 = r2_score(y, y_pred)\n",
    "    if title:\n",
    "        print(title)\n",
    "    print(f\"MSE:{mse}, RMSE:{rmse}, R2:{r2}\")"
   ]
  },
  {
   "cell_type": "code",
   "execution_count": 35,
   "metadata": {
    "ExecuteTime": {
     "end_time": "2020-09-01T21:15:48.289445Z",
     "start_time": "2020-09-01T21:15:47.879064Z"
    }
   },
   "outputs": [
    {
     "name": "stdout",
     "output_type": "stream",
     "text": [
      "knn - Train\n",
      "MSE:1427.767659021123, RMSE:37.785812933178015, R2:0.8019417941941395\n",
      "knn - Test\n",
      "MSE:2864.855454376287, RMSE:53.52434450207015, R2:0.6640766473771966\n",
      "-------------------------------------------\n",
      "tree - Train\n",
      "MSE:817.4625116301221, RMSE:28.59130132802846, R2:0.8866025873719422\n",
      "tree - Test\n",
      "MSE:3301.0727964279786, RMSE:57.45496320099751, R2:0.6129272632816158\n",
      "-------------------------------------------\n",
      "random forest - Train\n",
      "MSE:1717.7016661406203, RMSE:41.44516456886883, R2:0.7617224987861171\n",
      "random forest - Test\n",
      "MSE:2979.7480586362517, RMSE:54.58706860270344, R2:0.650604725519633\n",
      "-------------------------------------------\n",
      "linear reg - Train\n",
      "MSE:2017.1792010802012, RMSE:44.9130181693482, R2:0.7201793367215267\n",
      "linear reg - Test\n",
      "MSE:2368.5811126977082, RMSE:48.6680707723011, R2:0.7222681140435795\n",
      "-------------------------------------------\n"
     ]
    }
   ],
   "source": [
    "for name, model in estimators:\n",
    "    model.fit(X_train, y_train)\n",
    "    pred_train = model.predict(X_train)\n",
    "    pred_test = model.predict(X_test)\n",
    "    \n",
    "    print_metrics(y_train, pred_train, name+\" - Train\")\n",
    "    print_metrics(y_test, pred_test, name+\" - Test\")\n",
    "    print(\"-------------------------------------------\")"
   ]
  },
  {
   "cell_type": "code",
   "execution_count": 36,
   "metadata": {
    "ExecuteTime": {
     "end_time": "2020-09-01T21:17:47.428952Z",
     "start_time": "2020-09-01T21:17:47.166654Z"
    }
   },
   "outputs": [],
   "source": [
    "# VotingRegressor: 각 모델이 예측한 값의 평균 반환\n",
    "knn_reg = KNeighborsRegressor(n_neighbors=3)\n",
    "tree_reg = DecisionTreeRegressor(max_depth=2)\n",
    "rf_reg = RandomForestRegressor(n_estimators=200, max_depth=2)\n",
    "lr_reg = LinearRegression()\n",
    "\n",
    "estimators = [(\"knn\",knn_reg), ('random forest',rf_reg), ('linear reg',lr_reg)]\n",
    "\n",
    "vote_reg = VotingRegressor(estimators)\n",
    "vote_reg.fit(X_train, y_train)\n",
    "pred_train = vote_reg.predict(X_train)\n",
    "pred_test = vote_reg.predict(X_test)"
   ]
  },
  {
   "cell_type": "code",
   "execution_count": 37,
   "metadata": {
    "ExecuteTime": {
     "end_time": "2020-09-01T21:16:15.524290Z",
     "start_time": "2020-09-01T21:16:15.518301Z"
    }
   },
   "outputs": [
    {
     "name": "stdout",
     "output_type": "stream",
     "text": [
      "MSE:1577.802255121928, RMSE:39.72155907214529, R2:0.7811291761713266\n",
      "MSE:2446.488353362265, RMSE:49.46198897499235, R2:0.7131329720113169\n"
     ]
    }
   ],
   "source": [
    "print_metrics(y_train, pred_train)\n",
    "print_metrics(y_test, pred_test)"
   ]
  },
  {
   "cell_type": "code",
   "execution_count": null,
   "metadata": {},
   "outputs": [],
   "source": []
  },
  {
   "cell_type": "code",
   "execution_count": 38,
   "metadata": {
    "ExecuteTime": {
     "end_time": "2020-09-01T21:18:25.633244Z",
     "start_time": "2020-09-01T21:18:25.615294Z"
    }
   },
   "outputs": [],
   "source": [
    "tree_reg = DecisionTreeRegressor(max_depth=3)"
   ]
  },
  {
   "cell_type": "code",
   "execution_count": 39,
   "metadata": {
    "ExecuteTime": {
     "end_time": "2020-09-01T21:18:26.265586Z",
     "start_time": "2020-09-01T21:18:26.255583Z"
    }
   },
   "outputs": [
    {
     "data": {
      "text/plain": [
       "DecisionTreeRegressor(max_depth=3)"
      ]
     },
     "execution_count": 39,
     "metadata": {},
     "output_type": "execute_result"
    }
   ],
   "source": [
    "tree_reg.fit(X_train, y_train)"
   ]
  },
  {
   "cell_type": "code",
   "execution_count": 41,
   "metadata": {
    "ExecuteTime": {
     "end_time": "2020-09-01T21:18:28.332064Z",
     "start_time": "2020-09-01T21:18:27.959030Z"
    }
   },
   "outputs": [
    {
     "data": {
      "image/svg+xml": [
       "<?xml version=\"1.0\" encoding=\"UTF-8\" standalone=\"no\"?>\r\n",
       "<!DOCTYPE svg PUBLIC \"-//W3C//DTD SVG 1.1//EN\"\r\n",
       " \"http://www.w3.org/Graphics/SVG/1.1/DTD/svg11.dtd\">\r\n",
       "<!-- Generated by graphviz version 2.38.0 (20140413.2041)\r\n",
       " -->\r\n",
       "<!-- Title: Tree Pages: 1 -->\r\n",
       "<svg width=\"1078pt\" height=\"373pt\"\r\n",
       " viewBox=\"0.00 0.00 1077.50 373.00\" xmlns=\"http://www.w3.org/2000/svg\" xmlns:xlink=\"http://www.w3.org/1999/xlink\">\r\n",
       "<g id=\"graph0\" class=\"graph\" transform=\"scale(1 1) rotate(0) translate(4 369)\">\r\n",
       "<title>Tree</title>\r\n",
       "<polygon fill=\"white\" stroke=\"none\" points=\"-4,4 -4,-369 1073.5,-369 1073.5,4 -4,4\"/>\r\n",
       "<!-- 0 -->\r\n",
       "<g id=\"node1\" class=\"node\"><title>0</title>\r\n",
       "<path fill=\"#efb287\" stroke=\"black\" d=\"M568.5,-365C568.5,-365 470.5,-365 470.5,-365 464.5,-365 458.5,-359 458.5,-353 458.5,-353 458.5,-309 458.5,-309 458.5,-303 464.5,-297 470.5,-297 470.5,-297 568.5,-297 568.5,-297 574.5,-297 580.5,-303 580.5,-309 580.5,-309 580.5,-353 580.5,-353 580.5,-359 574.5,-365 568.5,-365\"/>\r\n",
       "<text text-anchor=\"middle\" x=\"519.5\" y=\"-349.8\" font-family=\"Helvetica,sans-Serif\" font-size=\"14.00\">X[0] &lt;= 0.015</text>\r\n",
       "<text text-anchor=\"middle\" x=\"519.5\" y=\"-334.8\" font-family=\"Helvetica,sans-Serif\" font-size=\"14.00\">mse = 7208.829</text>\r\n",
       "<text text-anchor=\"middle\" x=\"519.5\" y=\"-319.8\" font-family=\"Helvetica,sans-Serif\" font-size=\"14.00\">samples = 80</text>\r\n",
       "<text text-anchor=\"middle\" x=\"519.5\" y=\"-304.8\" font-family=\"Helvetica,sans-Serif\" font-size=\"14.00\">value = 23.749</text>\r\n",
       "</g>\r\n",
       "<!-- 1 -->\r\n",
       "<g id=\"node2\" class=\"node\"><title>1</title>\r\n",
       "<path fill=\"#f4caab\" stroke=\"black\" d=\"M467.5,-261C467.5,-261 369.5,-261 369.5,-261 363.5,-261 357.5,-255 357.5,-249 357.5,-249 357.5,-205 357.5,-205 357.5,-199 363.5,-193 369.5,-193 369.5,-193 467.5,-193 467.5,-193 473.5,-193 479.5,-199 479.5,-205 479.5,-205 479.5,-249 479.5,-249 479.5,-255 473.5,-261 467.5,-261\"/>\r\n",
       "<text text-anchor=\"middle\" x=\"418.5\" y=\"-245.8\" font-family=\"Helvetica,sans-Serif\" font-size=\"14.00\">X[0] &lt;= &#45;1.601</text>\r\n",
       "<text text-anchor=\"middle\" x=\"418.5\" y=\"-230.8\" font-family=\"Helvetica,sans-Serif\" font-size=\"14.00\">mse = 2661.791</text>\r\n",
       "<text text-anchor=\"middle\" x=\"418.5\" y=\"-215.8\" font-family=\"Helvetica,sans-Serif\" font-size=\"14.00\">samples = 34</text>\r\n",
       "<text text-anchor=\"middle\" x=\"418.5\" y=\"-200.8\" font-family=\"Helvetica,sans-Serif\" font-size=\"14.00\">value = &#45;46.023</text>\r\n",
       "</g>\r\n",
       "<!-- 0&#45;&gt;1 -->\r\n",
       "<g id=\"edge1\" class=\"edge\"><title>0&#45;&gt;1</title>\r\n",
       "<path fill=\"none\" stroke=\"black\" d=\"M486.708,-296.884C477.8,-287.887 468.05,-278.041 458.78,-268.678\"/>\r\n",
       "<polygon fill=\"black\" stroke=\"black\" points=\"460.996,-265.943 451.473,-261.299 456.022,-270.868 460.996,-265.943\"/>\r\n",
       "<text text-anchor=\"middle\" x=\"451.35\" y=\"-282.599\" font-family=\"Helvetica,sans-Serif\" font-size=\"14.00\">True</text>\r\n",
       "</g>\r\n",
       "<!-- 8 -->\r\n",
       "<g id=\"node9\" class=\"node\"><title>8</title>\r\n",
       "<path fill=\"#eca16b\" stroke=\"black\" d=\"M670.5,-261C670.5,-261 572.5,-261 572.5,-261 566.5,-261 560.5,-255 560.5,-249 560.5,-249 560.5,-205 560.5,-205 560.5,-199 566.5,-193 572.5,-193 572.5,-193 670.5,-193 670.5,-193 676.5,-193 682.5,-199 682.5,-205 682.5,-205 682.5,-249 682.5,-249 682.5,-255 676.5,-261 670.5,-261\"/>\r\n",
       "<text text-anchor=\"middle\" x=\"621.5\" y=\"-245.8\" font-family=\"Helvetica,sans-Serif\" font-size=\"14.00\">X[0] &lt;= 0.585</text>\r\n",
       "<text text-anchor=\"middle\" x=\"621.5\" y=\"-230.8\" font-family=\"Helvetica,sans-Serif\" font-size=\"14.00\">mse = 4311.951</text>\r\n",
       "<text text-anchor=\"middle\" x=\"621.5\" y=\"-215.8\" font-family=\"Helvetica,sans-Serif\" font-size=\"14.00\">samples = 46</text>\r\n",
       "<text text-anchor=\"middle\" x=\"621.5\" y=\"-200.8\" font-family=\"Helvetica,sans-Serif\" font-size=\"14.00\">value = 75.32</text>\r\n",
       "</g>\r\n",
       "<!-- 0&#45;&gt;8 -->\r\n",
       "<g id=\"edge8\" class=\"edge\"><title>0&#45;&gt;8</title>\r\n",
       "<path fill=\"none\" stroke=\"black\" d=\"M552.616,-296.884C561.702,-287.798 571.655,-277.845 581.1,-268.4\"/>\r\n",
       "<polygon fill=\"black\" stroke=\"black\" points=\"583.604,-270.845 588.201,-261.299 578.655,-265.896 583.604,-270.845\"/>\r\n",
       "<text text-anchor=\"middle\" x=\"588.201\" y=\"-282.599\" font-family=\"Helvetica,sans-Serif\" font-size=\"14.00\">False</text>\r\n",
       "</g>\r\n",
       "<!-- 2 -->\r\n",
       "<g id=\"node3\" class=\"node\"><title>2</title>\r\n",
       "<path fill=\"#fffffe\" stroke=\"black\" d=\"M232,-157C232,-157 133,-157 133,-157 127,-157 121,-151 121,-145 121,-145 121,-101 121,-101 121,-95 127,-89 133,-89 133,-89 232,-89 232,-89 238,-89 244,-95 244,-101 244,-101 244,-145 244,-145 244,-151 238,-157 232,-157\"/>\r\n",
       "<text text-anchor=\"middle\" x=\"182.5\" y=\"-141.8\" font-family=\"Helvetica,sans-Serif\" font-size=\"14.00\">X[0] &lt;= &#45;2.181</text>\r\n",
       "<text text-anchor=\"middle\" x=\"182.5\" y=\"-126.8\" font-family=\"Helvetica,sans-Serif\" font-size=\"14.00\">mse = 1.477</text>\r\n",
       "<text text-anchor=\"middle\" x=\"182.5\" y=\"-111.8\" font-family=\"Helvetica,sans-Serif\" font-size=\"14.00\">samples = 2</text>\r\n",
       "<text text-anchor=\"middle\" x=\"182.5\" y=\"-96.8\" font-family=\"Helvetica,sans-Serif\" font-size=\"14.00\">value = &#45;204.015</text>\r\n",
       "</g>\r\n",
       "<!-- 1&#45;&gt;2 -->\r\n",
       "<g id=\"edge2\" class=\"edge\"><title>1&#45;&gt;2</title>\r\n",
       "<path fill=\"none\" stroke=\"black\" d=\"M357.417,-199.6C325.584,-185.841 286.483,-168.942 253.329,-154.613\"/>\r\n",
       "<polygon fill=\"black\" stroke=\"black\" points=\"254.715,-151.399 244.147,-150.644 251.938,-157.824 254.715,-151.399\"/>\r\n",
       "</g>\r\n",
       "<!-- 5 -->\r\n",
       "<g id=\"node6\" class=\"node\"><title>5</title>\r\n",
       "<path fill=\"#f3c6a6\" stroke=\"black\" d=\"M467.5,-157C467.5,-157 369.5,-157 369.5,-157 363.5,-157 357.5,-151 357.5,-145 357.5,-145 357.5,-101 357.5,-101 357.5,-95 363.5,-89 369.5,-89 369.5,-89 467.5,-89 467.5,-89 473.5,-89 479.5,-95 479.5,-101 479.5,-101 479.5,-145 479.5,-145 479.5,-151 473.5,-157 467.5,-157\"/>\r\n",
       "<text text-anchor=\"middle\" x=\"418.5\" y=\"-141.8\" font-family=\"Helvetica,sans-Serif\" font-size=\"14.00\">X[0] &lt;= &#45;0.558</text>\r\n",
       "<text text-anchor=\"middle\" x=\"418.5\" y=\"-126.8\" font-family=\"Helvetica,sans-Serif\" font-size=\"14.00\">mse = 1170.454</text>\r\n",
       "<text text-anchor=\"middle\" x=\"418.5\" y=\"-111.8\" font-family=\"Helvetica,sans-Serif\" font-size=\"14.00\">samples = 32</text>\r\n",
       "<text text-anchor=\"middle\" x=\"418.5\" y=\"-96.8\" font-family=\"Helvetica,sans-Serif\" font-size=\"14.00\">value = &#45;36.148</text>\r\n",
       "</g>\r\n",
       "<!-- 1&#45;&gt;5 -->\r\n",
       "<g id=\"edge5\" class=\"edge\"><title>1&#45;&gt;5</title>\r\n",
       "<path fill=\"none\" stroke=\"black\" d=\"M418.5,-192.884C418.5,-184.778 418.5,-175.982 418.5,-167.472\"/>\r\n",
       "<polygon fill=\"black\" stroke=\"black\" points=\"422,-167.299 418.5,-157.299 415,-167.299 422,-167.299\"/>\r\n",
       "</g>\r\n",
       "<!-- 3 -->\r\n",
       "<g id=\"node4\" class=\"node\"><title>3</title>\r\n",
       "<path fill=\"#fffefe\" stroke=\"black\" d=\"M95,-53C95,-53 12,-53 12,-53 6,-53 0,-47 0,-41 0,-41 0,-12 0,-12 0,-6 6,-0 12,-0 12,-0 95,-0 95,-0 101,-0 107,-6 107,-12 107,-12 107,-41 107,-41 107,-47 101,-53 95,-53\"/>\r\n",
       "<text text-anchor=\"middle\" x=\"53.5\" y=\"-37.8\" font-family=\"Helvetica,sans-Serif\" font-size=\"14.00\">mse = 0.0</text>\r\n",
       "<text text-anchor=\"middle\" x=\"53.5\" y=\"-22.8\" font-family=\"Helvetica,sans-Serif\" font-size=\"14.00\">samples = 1</text>\r\n",
       "<text text-anchor=\"middle\" x=\"53.5\" y=\"-7.8\" font-family=\"Helvetica,sans-Serif\" font-size=\"14.00\">value = &#45;202.8</text>\r\n",
       "</g>\r\n",
       "<!-- 2&#45;&gt;3 -->\r\n",
       "<g id=\"edge3\" class=\"edge\"><title>2&#45;&gt;3</title>\r\n",
       "<path fill=\"none\" stroke=\"black\" d=\"M137.382,-88.9485C124.27,-79.3431 109.98,-68.8747 96.9709,-59.345\"/>\r\n",
       "<polygon fill=\"black\" stroke=\"black\" points=\"98.7681,-56.3228 88.6326,-53.2367 94.6313,-61.9698 98.7681,-56.3228\"/>\r\n",
       "</g>\r\n",
       "<!-- 4 -->\r\n",
       "<g id=\"node5\" class=\"node\"><title>4</title>\r\n",
       "<path fill=\"#ffffff\" stroke=\"black\" d=\"M228,-53C228,-53 137,-53 137,-53 131,-53 125,-47 125,-41 125,-41 125,-12 125,-12 125,-6 131,-0 137,-0 137,-0 228,-0 228,-0 234,-0 240,-6 240,-12 240,-12 240,-41 240,-41 240,-47 234,-53 228,-53\"/>\r\n",
       "<text text-anchor=\"middle\" x=\"182.5\" y=\"-37.8\" font-family=\"Helvetica,sans-Serif\" font-size=\"14.00\">mse = &#45;0.0</text>\r\n",
       "<text text-anchor=\"middle\" x=\"182.5\" y=\"-22.8\" font-family=\"Helvetica,sans-Serif\" font-size=\"14.00\">samples = 1</text>\r\n",
       "<text text-anchor=\"middle\" x=\"182.5\" y=\"-7.8\" font-family=\"Helvetica,sans-Serif\" font-size=\"14.00\">value = &#45;205.23</text>\r\n",
       "</g>\r\n",
       "<!-- 2&#45;&gt;4 -->\r\n",
       "<g id=\"edge4\" class=\"edge\"><title>2&#45;&gt;4</title>\r\n",
       "<path fill=\"none\" stroke=\"black\" d=\"M182.5,-88.9485C182.5,-80.7153 182.5,-71.848 182.5,-63.4814\"/>\r\n",
       "<polygon fill=\"black\" stroke=\"black\" points=\"186,-63.2367 182.5,-53.2367 179,-63.2367 186,-63.2367\"/>\r\n",
       "</g>\r\n",
       "<!-- 6 -->\r\n",
       "<g id=\"node7\" class=\"node\"><title>6</title>\r\n",
       "<path fill=\"#f4c9aa\" stroke=\"black\" d=\"M359,-53C359,-53 270,-53 270,-53 264,-53 258,-47 258,-41 258,-41 258,-12 258,-12 258,-6 264,-0 270,-0 270,-0 359,-0 359,-0 365,-0 371,-6 371,-12 371,-12 371,-41 371,-41 371,-47 365,-53 359,-53\"/>\r\n",
       "<text text-anchor=\"middle\" x=\"314.5\" y=\"-37.8\" font-family=\"Helvetica,sans-Serif\" font-size=\"14.00\">mse = 774.659</text>\r\n",
       "<text text-anchor=\"middle\" x=\"314.5\" y=\"-22.8\" font-family=\"Helvetica,sans-Serif\" font-size=\"14.00\">samples = 16</text>\r\n",
       "<text text-anchor=\"middle\" x=\"314.5\" y=\"-7.8\" font-family=\"Helvetica,sans-Serif\" font-size=\"14.00\">value = &#45;43.69</text>\r\n",
       "</g>\r\n",
       "<!-- 5&#45;&gt;6 -->\r\n",
       "<g id=\"edge6\" class=\"edge\"><title>5&#45;&gt;6</title>\r\n",
       "<path fill=\"none\" stroke=\"black\" d=\"M382.126,-88.9485C371.857,-79.6175 360.692,-69.4722 350.448,-60.1641\"/>\r\n",
       "<polygon fill=\"black\" stroke=\"black\" points=\"352.579,-57.3713 342.824,-53.2367 347.871,-62.5521 352.579,-57.3713\"/>\r\n",
       "</g>\r\n",
       "<!-- 7 -->\r\n",
       "<g id=\"node8\" class=\"node\"><title>7</title>\r\n",
       "<path fill=\"#f3c4a2\" stroke=\"black\" d=\"M499.5,-53C499.5,-53 401.5,-53 401.5,-53 395.5,-53 389.5,-47 389.5,-41 389.5,-41 389.5,-12 389.5,-12 389.5,-6 395.5,-0 401.5,-0 401.5,-0 499.5,-0 499.5,-0 505.5,-0 511.5,-6 511.5,-12 511.5,-12 511.5,-41 511.5,-41 511.5,-47 505.5,-53 499.5,-53\"/>\r\n",
       "<text text-anchor=\"middle\" x=\"450.5\" y=\"-37.8\" font-family=\"Helvetica,sans-Serif\" font-size=\"14.00\">mse = 1452.491</text>\r\n",
       "<text text-anchor=\"middle\" x=\"450.5\" y=\"-22.8\" font-family=\"Helvetica,sans-Serif\" font-size=\"14.00\">samples = 16</text>\r\n",
       "<text text-anchor=\"middle\" x=\"450.5\" y=\"-7.8\" font-family=\"Helvetica,sans-Serif\" font-size=\"14.00\">value = &#45;28.606</text>\r\n",
       "</g>\r\n",
       "<!-- 5&#45;&gt;7 -->\r\n",
       "<g id=\"edge7\" class=\"edge\"><title>5&#45;&gt;7</title>\r\n",
       "<path fill=\"none\" stroke=\"black\" d=\"M429.692,-88.9485C432.542,-80.5323 435.616,-71.4536 438.504,-62.9243\"/>\r\n",
       "<polygon fill=\"black\" stroke=\"black\" points=\"441.893,-63.831 441.785,-53.2367 435.262,-61.5858 441.893,-63.831\"/>\r\n",
       "</g>\r\n",
       "<!-- 9 -->\r\n",
       "<g id=\"node10\" class=\"node\"><title>9</title>\r\n",
       "<path fill=\"#eeaf81\" stroke=\"black\" d=\"M670.5,-157C670.5,-157 572.5,-157 572.5,-157 566.5,-157 560.5,-151 560.5,-145 560.5,-145 560.5,-101 560.5,-101 560.5,-95 566.5,-89 572.5,-89 572.5,-89 670.5,-89 670.5,-89 676.5,-89 682.5,-95 682.5,-101 682.5,-101 682.5,-145 682.5,-145 682.5,-151 676.5,-157 670.5,-157\"/>\r\n",
       "<text text-anchor=\"middle\" x=\"621.5\" y=\"-141.8\" font-family=\"Helvetica,sans-Serif\" font-size=\"14.00\">X[0] &lt;= 0.043</text>\r\n",
       "<text text-anchor=\"middle\" x=\"621.5\" y=\"-126.8\" font-family=\"Helvetica,sans-Serif\" font-size=\"14.00\">mse = 1469.287</text>\r\n",
       "<text text-anchor=\"middle\" x=\"621.5\" y=\"-111.8\" font-family=\"Helvetica,sans-Serif\" font-size=\"14.00\">samples = 23</text>\r\n",
       "<text text-anchor=\"middle\" x=\"621.5\" y=\"-96.8\" font-family=\"Helvetica,sans-Serif\" font-size=\"14.00\">value = 33.604</text>\r\n",
       "</g>\r\n",
       "<!-- 8&#45;&gt;9 -->\r\n",
       "<g id=\"edge9\" class=\"edge\"><title>8&#45;&gt;9</title>\r\n",
       "<path fill=\"none\" stroke=\"black\" d=\"M621.5,-192.884C621.5,-184.778 621.5,-175.982 621.5,-167.472\"/>\r\n",
       "<polygon fill=\"black\" stroke=\"black\" points=\"625,-167.299 621.5,-157.299 618,-167.299 625,-167.299\"/>\r\n",
       "</g>\r\n",
       "<!-- 12 -->\r\n",
       "<g id=\"node13\" class=\"node\"><title>12</title>\r\n",
       "<path fill=\"#e99355\" stroke=\"black\" d=\"M917.5,-157C917.5,-157 819.5,-157 819.5,-157 813.5,-157 807.5,-151 807.5,-145 807.5,-145 807.5,-101 807.5,-101 807.5,-95 813.5,-89 819.5,-89 819.5,-89 917.5,-89 917.5,-89 923.5,-89 929.5,-95 929.5,-101 929.5,-101 929.5,-145 929.5,-145 929.5,-151 923.5,-157 917.5,-157\"/>\r\n",
       "<text text-anchor=\"middle\" x=\"868.5\" y=\"-141.8\" font-family=\"Helvetica,sans-Serif\" font-size=\"14.00\">X[0] &lt;= 1.226</text>\r\n",
       "<text text-anchor=\"middle\" x=\"868.5\" y=\"-126.8\" font-family=\"Helvetica,sans-Serif\" font-size=\"14.00\">mse = 3674.072</text>\r\n",
       "<text text-anchor=\"middle\" x=\"868.5\" y=\"-111.8\" font-family=\"Helvetica,sans-Serif\" font-size=\"14.00\">samples = 23</text>\r\n",
       "<text text-anchor=\"middle\" x=\"868.5\" y=\"-96.8\" font-family=\"Helvetica,sans-Serif\" font-size=\"14.00\">value = 117.037</text>\r\n",
       "</g>\r\n",
       "<!-- 8&#45;&gt;12 -->\r\n",
       "<g id=\"edge12\" class=\"edge\"><title>8&#45;&gt;12</title>\r\n",
       "<path fill=\"none\" stroke=\"black\" d=\"M682.556,-200.787C717.439,-186.381 761.342,-168.251 797.728,-153.226\"/>\r\n",
       "<polygon fill=\"black\" stroke=\"black\" points=\"799.383,-156.329 807.29,-149.277 796.711,-149.859 799.383,-156.329\"/>\r\n",
       "</g>\r\n",
       "<!-- 10 -->\r\n",
       "<g id=\"node11\" class=\"node\"><title>10</title>\r\n",
       "<path fill=\"#e89152\" stroke=\"black\" d=\"M637,-53C637,-53 542,-53 542,-53 536,-53 530,-47 530,-41 530,-41 530,-12 530,-12 530,-6 536,-0 542,-0 542,-0 637,-0 637,-0 643,-0 649,-6 649,-12 649,-12 649,-41 649,-41 649,-47 643,-53 637,-53\"/>\r\n",
       "<text text-anchor=\"middle\" x=\"589.5\" y=\"-37.8\" font-family=\"Helvetica,sans-Serif\" font-size=\"14.00\">mse = 0.0</text>\r\n",
       "<text text-anchor=\"middle\" x=\"589.5\" y=\"-22.8\" font-family=\"Helvetica,sans-Serif\" font-size=\"14.00\">samples = 1</text>\r\n",
       "<text text-anchor=\"middle\" x=\"589.5\" y=\"-7.8\" font-family=\"Helvetica,sans-Serif\" font-size=\"14.00\">value = 122.667</text>\r\n",
       "</g>\r\n",
       "<!-- 9&#45;&gt;10 -->\r\n",
       "<g id=\"edge10\" class=\"edge\"><title>9&#45;&gt;10</title>\r\n",
       "<path fill=\"none\" stroke=\"black\" d=\"M610.308,-88.9485C607.458,-80.5323 604.384,-71.4536 601.496,-62.9243\"/>\r\n",
       "<polygon fill=\"black\" stroke=\"black\" points=\"604.738,-61.5858 598.215,-53.2367 598.107,-63.831 604.738,-61.5858\"/>\r\n",
       "</g>\r\n",
       "<!-- 11 -->\r\n",
       "<g id=\"node12\" class=\"node\"><title>11</title>\r\n",
       "<path fill=\"#efb083\" stroke=\"black\" d=\"M777.5,-53C777.5,-53 679.5,-53 679.5,-53 673.5,-53 667.5,-47 667.5,-41 667.5,-41 667.5,-12 667.5,-12 667.5,-6 673.5,-0 679.5,-0 679.5,-0 777.5,-0 777.5,-0 783.5,-0 789.5,-6 789.5,-12 789.5,-12 789.5,-41 789.5,-41 789.5,-47 783.5,-53 777.5,-53\"/>\r\n",
       "<text text-anchor=\"middle\" x=\"728.5\" y=\"-37.8\" font-family=\"Helvetica,sans-Serif\" font-size=\"14.00\">mse = 1159.121</text>\r\n",
       "<text text-anchor=\"middle\" x=\"728.5\" y=\"-22.8\" font-family=\"Helvetica,sans-Serif\" font-size=\"14.00\">samples = 22</text>\r\n",
       "<text text-anchor=\"middle\" x=\"728.5\" y=\"-7.8\" font-family=\"Helvetica,sans-Serif\" font-size=\"14.00\">value = 29.555</text>\r\n",
       "</g>\r\n",
       "<!-- 9&#45;&gt;11 -->\r\n",
       "<g id=\"edge11\" class=\"edge\"><title>9&#45;&gt;11</title>\r\n",
       "<path fill=\"none\" stroke=\"black\" d=\"M658.923,-88.9485C669.592,-79.526 681.201,-69.2731 691.825,-59.8906\"/>\r\n",
       "<polygon fill=\"black\" stroke=\"black\" points=\"694.181,-62.4798 699.359,-53.2367 689.547,-57.2331 694.181,-62.4798\"/>\r\n",
       "</g>\r\n",
       "<!-- 13 -->\r\n",
       "<g id=\"node14\" class=\"node\"><title>13</title>\r\n",
       "<path fill=\"#ea9b62\" stroke=\"black\" d=\"M917.5,-53C917.5,-53 819.5,-53 819.5,-53 813.5,-53 807.5,-47 807.5,-41 807.5,-41 807.5,-12 807.5,-12 807.5,-6 813.5,-0 819.5,-0 819.5,-0 917.5,-0 917.5,-0 923.5,-0 929.5,-6 929.5,-12 929.5,-12 929.5,-41 929.5,-41 929.5,-47 923.5,-53 917.5,-53\"/>\r\n",
       "<text text-anchor=\"middle\" x=\"868.5\" y=\"-37.8\" font-family=\"Helvetica,sans-Serif\" font-size=\"14.00\">mse = 2888.959</text>\r\n",
       "<text text-anchor=\"middle\" x=\"868.5\" y=\"-22.8\" font-family=\"Helvetica,sans-Serif\" font-size=\"14.00\">samples = 16</text>\r\n",
       "<text text-anchor=\"middle\" x=\"868.5\" y=\"-7.8\" font-family=\"Helvetica,sans-Serif\" font-size=\"14.00\">value = 93.403</text>\r\n",
       "</g>\r\n",
       "<!-- 12&#45;&gt;13 -->\r\n",
       "<g id=\"edge13\" class=\"edge\"><title>12&#45;&gt;13</title>\r\n",
       "<path fill=\"none\" stroke=\"black\" d=\"M868.5,-88.9485C868.5,-80.7153 868.5,-71.848 868.5,-63.4814\"/>\r\n",
       "<polygon fill=\"black\" stroke=\"black\" points=\"872,-63.2367 868.5,-53.2367 865,-63.2367 872,-63.2367\"/>\r\n",
       "</g>\r\n",
       "<!-- 14 -->\r\n",
       "<g id=\"node15\" class=\"node\"><title>14</title>\r\n",
       "<path fill=\"#e58139\" stroke=\"black\" d=\"M1057.5,-53C1057.5,-53 959.5,-53 959.5,-53 953.5,-53 947.5,-47 947.5,-41 947.5,-41 947.5,-12 947.5,-12 947.5,-6 953.5,-0 959.5,-0 959.5,-0 1057.5,-0 1057.5,-0 1063.5,-0 1069.5,-6 1069.5,-12 1069.5,-12 1069.5,-41 1069.5,-41 1069.5,-47 1063.5,-53 1057.5,-53\"/>\r\n",
       "<text text-anchor=\"middle\" x=\"1008.5\" y=\"-37.8\" font-family=\"Helvetica,sans-Serif\" font-size=\"14.00\">mse = 1273.962</text>\r\n",
       "<text text-anchor=\"middle\" x=\"1008.5\" y=\"-22.8\" font-family=\"Helvetica,sans-Serif\" font-size=\"14.00\">samples = 7</text>\r\n",
       "<text text-anchor=\"middle\" x=\"1008.5\" y=\"-7.8\" font-family=\"Helvetica,sans-Serif\" font-size=\"14.00\">value = 171.055</text>\r\n",
       "</g>\r\n",
       "<!-- 12&#45;&gt;14 -->\r\n",
       "<g id=\"edge14\" class=\"edge\"><title>12&#45;&gt;14</title>\r\n",
       "<path fill=\"none\" stroke=\"black\" d=\"M917.465,-88.9485C931.831,-79.2516 947.5,-68.6752 961.725,-59.073\"/>\r\n",
       "<polygon fill=\"black\" stroke=\"black\" points=\"964.041,-61.7325 970.372,-53.2367 960.125,-55.9305 964.041,-61.7325\"/>\r\n",
       "</g>\r\n",
       "</g>\r\n",
       "</svg>\r\n"
      ],
      "text/plain": [
       "<graphviz.files.Source at 0x1511b2a8348>"
      ]
     },
     "execution_count": 41,
     "metadata": {},
     "output_type": "execute_result"
    }
   ],
   "source": [
    "# samples: 값 개수\n",
    "# value: 값들의 평균\n",
    "from sklearn.tree import export_graphviz\n",
    "from graphviz import Source\n",
    "from IPython.display import SVG\n",
    "graph = Source(export_graphviz(tree_reg, \n",
    "                               out_file=None,\n",
    "                               rounded=True, filled=True))\n",
    "graph\n",
    "# display(SVG(graph.pipe(format='svg')))"
   ]
  },
  {
   "cell_type": "code",
   "execution_count": 47,
   "metadata": {
    "collapsed": true
   },
   "outputs": [
    {
     "data": {
      "text/plain": [
       "array([[ True],\n",
       "       [False],\n",
       "       [False],\n",
       "       [ True],\n",
       "       [ True],\n",
       "       [ True],\n",
       "       [False],\n",
       "       [False],\n",
       "       [ True],\n",
       "       [ True],\n",
       "       [ True],\n",
       "       [ True],\n",
       "       [False],\n",
       "       [False],\n",
       "       [False],\n",
       "       [ True],\n",
       "       [ True],\n",
       "       [ True],\n",
       "       [False],\n",
       "       [False],\n",
       "       [ True],\n",
       "       [ True],\n",
       "       [False],\n",
       "       [False],\n",
       "       [ True],\n",
       "       [ True],\n",
       "       [False],\n",
       "       [False],\n",
       "       [ True],\n",
       "       [False],\n",
       "       [False],\n",
       "       [False],\n",
       "       [False],\n",
       "       [False],\n",
       "       [False],\n",
       "       [False],\n",
       "       [ True],\n",
       "       [False],\n",
       "       [ True],\n",
       "       [ True],\n",
       "       [ True],\n",
       "       [False],\n",
       "       [ True],\n",
       "       [False],\n",
       "       [False],\n",
       "       [ True],\n",
       "       [False],\n",
       "       [False],\n",
       "       [False],\n",
       "       [False],\n",
       "       [False],\n",
       "       [False],\n",
       "       [False],\n",
       "       [ True],\n",
       "       [ True],\n",
       "       [False],\n",
       "       [ True],\n",
       "       [False],\n",
       "       [False],\n",
       "       [ True],\n",
       "       [ True],\n",
       "       [ True],\n",
       "       [False],\n",
       "       [ True],\n",
       "       [ True],\n",
       "       [ True],\n",
       "       [False],\n",
       "       [False],\n",
       "       [False],\n",
       "       [False],\n",
       "       [False],\n",
       "       [False],\n",
       "       [ True],\n",
       "       [ True],\n",
       "       [ True],\n",
       "       [False],\n",
       "       [False],\n",
       "       [False],\n",
       "       [False],\n",
       "       [False]])"
      ]
     },
     "execution_count": 47,
     "metadata": {},
     "output_type": "execute_result"
    }
   ],
   "source": [
    "X_train <= 0.015"
   ]
  },
  {
   "cell_type": "code",
   "execution_count": 49,
   "metadata": {
    "scrolled": true
   },
   "outputs": [
    {
     "data": {
      "text/plain": [
       "array([ 0,  3,  4,  5,  8,  9, 10, 11, 15, 16, 17, 20, 21, 24, 25, 28, 36,\n",
       "       38, 39, 40, 42, 45, 53, 54, 56, 59, 60, 61, 63, 64, 65, 72, 73, 74],\n",
       "      dtype=int64)"
      ]
     },
     "execution_count": 49,
     "metadata": {},
     "output_type": "execute_result"
    }
   ],
   "source": [
    "np.where(X_train <= 0.015)[0]"
   ]
  },
  {
   "cell_type": "code",
   "execution_count": 50,
   "metadata": {},
   "outputs": [
    {
     "data": {
      "text/plain": [
       "array([ -36.57520038,  -14.98193982,   -6.22450275,   33.20753395,\n",
       "        -99.27753949,   23.75117194, -205.23037479,  -50.68500389,\n",
       "        -70.21772349, -202.79979818,  -34.63702482,  -35.01700553,\n",
       "        -36.8533417 ,  -23.81120475,  -47.64519088,  -73.7592095 ,\n",
       "         27.18638221,  -64.90559549,  -40.64472696,    3.53525698,\n",
       "        -56.50302588,  -20.97155575,  -78.99724787,  -82.1563475 ,\n",
       "        -22.53473061,   25.51624693,    4.3278804 ,  -40.73940135,\n",
       "        -64.78371502,  -65.68609386,  -42.54037864,  -26.55082081,\n",
       "        -71.85441644,  -65.71292685])"
      ]
     },
     "execution_count": 50,
     "metadata": {},
     "output_type": "execute_result"
    }
   ],
   "source": [
    "y_train[np.where(X_train <= 0.015)[0]]"
   ]
  },
  {
   "cell_type": "code",
   "execution_count": 46,
   "metadata": {
    "ExecuteTime": {
     "end_time": "2019-12-19T15:43:53.359937Z",
     "start_time": "2019-12-19T15:43:53.353953Z"
    }
   },
   "outputs": [
    {
     "data": {
      "text/plain": [
       "-46.0226932531074"
      ]
     },
     "execution_count": 46,
     "metadata": {},
     "output_type": "execute_result"
    }
   ],
   "source": [
    "#위 그림에서 value 는 sample값들의 평균\n",
    "# np.where -> True인 인덱스 뽑아냄\n",
    "np.mean(y_train[np.where(X_train <= 0.015)[0]])"
   ]
  },
  {
   "cell_type": "code",
   "execution_count": 26,
   "metadata": {
    "ExecuteTime": {
     "end_time": "2019-12-19T15:43:25.917292Z",
     "start_time": "2019-12-19T15:43:25.912307Z"
    }
   },
   "outputs": [
    {
     "data": {
      "text/plain": [
       "(80,)"
      ]
     },
     "execution_count": 26,
     "metadata": {},
     "output_type": "execute_result"
    }
   ],
   "source": [
    "y_train.shape"
   ]
  }
 ],
 "metadata": {
  "kernelspec": {
   "display_name": "Python 3",
   "language": "python",
   "name": "python3"
  },
  "language_info": {
   "codemirror_mode": {
    "name": "ipython",
    "version": 3
   },
   "file_extension": ".py",
   "mimetype": "text/x-python",
   "name": "python",
   "nbconvert_exporter": "python",
   "pygments_lexer": "ipython3",
   "version": "3.7.10"
  },
  "toc": {
   "base_numbering": 1,
   "nav_menu": {},
   "number_sections": false,
   "sideBar": true,
   "skip_h1_title": false,
   "title_cell": "Table of Contents",
   "title_sidebar": "Contents",
   "toc_cell": false,
   "toc_position": {},
   "toc_section_display": true,
   "toc_window_display": false
  },
  "varInspector": {
   "cols": {
    "lenName": 16,
    "lenType": 16,
    "lenVar": 40
   },
   "kernels_config": {
    "python": {
     "delete_cmd_postfix": "",
     "delete_cmd_prefix": "del ",
     "library": "var_list.py",
     "varRefreshCmd": "print(var_dic_list())"
    },
    "r": {
     "delete_cmd_postfix": ") ",
     "delete_cmd_prefix": "rm(",
     "library": "var_list.r",
     "varRefreshCmd": "cat(var_dic_list()) "
    }
   },
   "types_to_exclude": [
    "module",
    "function",
    "builtin_function_or_method",
    "instance",
    "_Feature"
   ],
   "window_display": false
  }
 },
 "nbformat": 4,
 "nbformat_minor": 2
}
